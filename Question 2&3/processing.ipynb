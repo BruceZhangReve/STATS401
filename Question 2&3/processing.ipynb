{
 "cells": [
  {
   "cell_type": "markdown",
   "metadata": {},
   "source": [
    "# ICLR2024 Oral"
   ]
  },
  {
   "cell_type": "code",
   "execution_count": 2,
   "metadata": {},
   "outputs": [
    {
     "name": "stdout",
     "output_type": "stream",
     "text": [
      "NAN_Value:  0\n"
     ]
    }
   ],
   "source": [
    "import pandas as pd\n",
    "\n",
    "ICLR2024 = pd.read_csv('./data/ICLR2024(Oral).csv')\n",
    "ICLR2024 = ICLR2024.dropna(subset=['Papers_OfficialReview_list2_Rating', 'Papers_OfficialReview_list2_Confidence'], how='all').reset_index()\n",
    "ICLR2024['Rating'] = ICLR2024['Papers_OfficialReview_list2_Rating'].str.extract('(\\d+)').astype(float)\n",
    "ICLR2024['Confidence'] = ICLR2024['Papers_OfficialReview_list2_Confidence'].str.extract('(\\d+)').astype(float)\n",
    "ICLR2024 = ICLR2024[['Papers_Title','Papers_Keywords','Papers_OfficialReview_list2_StrengthandWeak','Rating','Confidence']]\n",
    "ICLR2024 = ICLR2024.rename(columns={\n",
    "    'Papers_Title': 'Title',\n",
    "    'Papers_Keywords': 'Keywords',\n",
    "    'Papers_OfficialReview_list2_StrengthandWeak': 'Strength_Weakness',\n",
    "    'Rating': 'Review_Rating',\n",
    "    'Confidence': 'Review_Confidence'\n",
    "})\n",
    "ICLR2024 = ICLR2024.dropna(subset=['Review_Rating', 'Review_Confidence'], how='any').reset_index()\n",
    "print(\"NAN_Value: \",ICLR2024.isna().sum().values.sum())\n",
    "\n",
    "grouped_ICLR2024 = ICLR2024.groupby('Title').agg({\n",
    "    'Keywords': 'first', \n",
    "    'Strength_Weakness': ' | '.join, \n",
    "    'Review_Rating': 'mean',\n",
    "    'Review_Confidence': 'mean' \n",
    "}).reset_index()\n",
    "\n",
    "grouped_ICLR2024['Review_Rating'] = grouped_ICLR2024['Review_Rating'].apply(lambda x: 7 if x < 1 or x > 10 else x)\n",
    "grouped_ICLR2024['Review_Confidence'] = grouped_ICLR2024['Review_Confidence'].apply(lambda x: 4 if x < 1 or x > 5 else x)\n",
    "\n",
    "grouped_ICLR2024#.to_csv(\"./data/Processed_ICLR2024(Oral).csv\")"
   ]
  },
  {
   "cell_type": "markdown",
   "metadata": {},
   "source": [
    "# ICLR2023 Oral"
   ]
  },
  {
   "cell_type": "code",
   "execution_count": 17,
   "metadata": {},
   "outputs": [
    {
     "name": "stdout",
     "output_type": "stream",
     "text": [
      "NAN_Value:  0\n"
     ]
    }
   ],
   "source": [
    "import pandas as pd\n",
    "\n",
    "\n",
    "ICLR2023 = pd.read_csv('./data/ICLR2023(Oral).csv')\n",
    "ICLR2023 = ICLR2023.dropna(subset=['Papers_OfficialReview_list2_Rating', 'Papers_OfficialReview_list2_Confidence'], how='all').reset_index()\n",
    "ICLR2023['Rating'] = ICLR2023['Papers_OfficialReview_list2_Rating'].str.extract('(\\d+)').astype(float)\n",
    "ICLR2023['Confidence'] = ICLR2023['Papers_OfficialReview_list2_Confidence'].str.extract('(\\d+)').astype(float)\n",
    "\n",
    "\n",
    "ICLR2023 = ICLR2023[['Papers_Title','Papers_Keywords','Papers_OfficialReview_list2_StrengthandWeak','Rating','Confidence']]\n",
    "\n",
    "ICLR2023 = ICLR2023.rename(columns={\n",
    "    'Papers_Title': 'Title',\n",
    "    'Papers_Keywords': 'Keywords',\n",
    "    'Papers_OfficialReview_list2_StrengthandWeak': 'Strength_Weakness',\n",
    "    'Rating': 'Review_Rating',\n",
    "    'Confidence': 'Review_Confidence'\n",
    "})\n",
    "ICLR2023 = ICLR2023.dropna(subset=['Review_Rating', 'Review_Confidence'], how='any').reset_index()\n",
    "print(\"NAN_Value: \",ICLR2023.isna().sum().values.sum())\n",
    "\n",
    "\n",
    "grouped_ICLR2023 = ICLR2023.groupby('Title').agg({\n",
    "    'Keywords': 'first',  \n",
    "    'Strength_Weakness': ' | '.join,  \n",
    "    'Review_Rating': 'mean', \n",
    "    'Review_Confidence': 'mean'\n",
    "}).reset_index()\n",
    "\n",
    "grouped_ICLR2023['Review_Rating'] = grouped_ICLR2023['Review_Rating'].apply(lambda x: 7 if x < 1 or x > 10 else x)\n",
    "grouped_ICLR2023['Review_Confidence'] = grouped_ICLR2023['Review_Confidence'].apply(lambda x: 4 if x < 1 or x > 5 else x)\n",
    "\n",
    "grouped_ICLR2023#.to_csv(\"./data/Processed_ICLR2023(Oral).csv\")"
   ]
  },
  {
   "cell_type": "markdown",
   "metadata": {},
   "source": [
    "# ICLR2022 Oral"
   ]
  },
  {
   "cell_type": "code",
   "execution_count": 19,
   "metadata": {},
   "outputs": [
    {
     "name": "stdout",
     "output_type": "stream",
     "text": [
      "NAN_Value:  0\n"
     ]
    }
   ],
   "source": [
    "import pandas as pd\n",
    "\n",
    "ICLR2022 = pd.read_csv('./data/ICLR2022(Oral).csv')\n",
    "ICLR2022 = ICLR2022.dropna(subset=['Papers_OfficialReview_list1_Rate', 'Papers_OfficialReview_list1_Confidence'], how='all').reset_index()\n",
    "ICLR2022['Rating'] = ICLR2022['Papers_OfficialReview_list1_Rate'].str.extract('(\\d+)').astype(float)\n",
    "ICLR2022['Confidence'] = ICLR2022['Papers_OfficialReview_list1_Confidence'].str.extract('(\\d+)').astype(float)\n",
    "ICLR2022 = ICLR2022[['Papers_Title','Papers_Keywords','Papers_OfficialReview_list1_StrengthandWeakness','Rating','Confidence']]\n",
    "\n",
    "ICLR2022 = ICLR2022.rename(columns={\n",
    "    'Papers_Title': 'Title',\n",
    "    'Papers_Keywords': 'Keywords',\n",
    "    'Papers_OfficialReview_list1_StrengthandWeakness': 'Strength_Weakness',\n",
    "    'Rating': 'Review_Rating',\n",
    "    'Confidence': 'Review_Confidence'\n",
    "})\n",
    "ICLR2022 = ICLR2022.dropna(subset=['Review_Rating', 'Review_Confidence'], how='any').reset_index()\n",
    "print(\"NAN_Value: \",ICLR2022.isna().sum().values.sum())\n",
    "\n",
    "grouped_ICLR2022 = ICLR2022.groupby('Title').agg({\n",
    "    'Keywords': 'first', \n",
    "    'Strength_Weakness': ' | '.join, \n",
    "    'Review_Rating': 'mean',\n",
    "    'Review_Confidence': 'mean' \n",
    "}).reset_index()\n",
    "\n",
    "grouped_ICLR2022['Review_Rating'] = grouped_ICLR2022['Review_Rating'].apply(lambda x: 7 if x < 1 or x > 10 else x)\n",
    "grouped_ICLR2022['Review_Confidence'] = grouped_ICLR2022['Review_Confidence'].apply(lambda x: 4 if x < 1 or x > 5 else x)\n",
    "\n",
    "grouped_ICLR2022#.to_csv(\"./data/Processed_ICLR2022(Oral).csv\")"
   ]
  },
  {
   "cell_type": "markdown",
   "metadata": {},
   "source": [
    "# ICLR 2021 (Oral)"
   ]
  },
  {
   "cell_type": "code",
   "execution_count": 21,
   "metadata": {},
   "outputs": [
    {
     "name": "stdout",
     "output_type": "stream",
     "text": [
      "NAN_Value:  0\n"
     ]
    }
   ],
   "source": [
    "import pandas as pd\n",
    "\n",
    "ICLR2021 = pd.read_csv('./data/ICLR2021(Oral).csv')\n",
    "ICLR2021 = ICLR2021.dropna(subset=['Papers_OfficialReview_list1_Rate', 'Papers_OfficialReview_list1_Confidence'], how='all').reset_index()\n",
    "ICLR2021['Rating'] = ICLR2021['Papers_OfficialReview_list1_Rate'].str.extract('(\\d+)').astype(float)\n",
    "ICLR2021['Confidence'] = ICLR2021['Papers_OfficialReview_list1_Confidence'].str.extract('(\\d+)').astype(float)\n",
    "ICLR2021 = ICLR2021[['Papers_Title','Papers_Keywords','Papers_OfficialReview_list1_StrengthandWeakness','Rating','Confidence']]\n",
    "\n",
    "ICLR2021 = ICLR2021.rename(columns={\n",
    "    'Papers_Title': 'Title',\n",
    "    'Papers_Keywords': 'Keywords',\n",
    "    'Papers_OfficialReview_list1_StrengthandWeakness': 'Strength_Weakness',\n",
    "    'Rating': 'Review_Rating',\n",
    "    'Confidence': 'Review_Confidence'\n",
    "})\n",
    "ICLR2021 = ICLR2021.dropna(subset=['Review_Rating', 'Review_Confidence'], how='any').reset_index()\n",
    "print(\"NAN_Value: \",ICLR2021.isna().sum().values.sum())\n",
    "\n",
    "grouped_ICLR2021 = ICLR2021.groupby('Title').agg({\n",
    "    'Keywords': 'first', \n",
    "    'Strength_Weakness': ' | '.join, \n",
    "    'Review_Rating': 'mean',\n",
    "    'Review_Confidence': 'mean' \n",
    "}).reset_index()\n",
    "\n",
    "grouped_ICLR2021['Review_Rating'] = grouped_ICLR2021['Review_Rating'].apply(lambda x: 7 if x < 1 or x > 10 else x)\n",
    "grouped_ICLR2021['Review_Confidence'] = grouped_ICLR2021['Review_Confidence'].apply(lambda x: 4 if x < 1 or x > 5 else x)\n",
    "\n",
    "grouped_ICLR2021#.to_csv(\"./data/Processed_ICLR2021(Oral).csv\")"
   ]
  },
  {
   "cell_type": "markdown",
   "metadata": {},
   "source": [
    "# ICLR2020 (Oral)"
   ]
  },
  {
   "cell_type": "code",
   "execution_count": 23,
   "metadata": {},
   "outputs": [
    {
     "name": "stdout",
     "output_type": "stream",
     "text": [
      "NAN_Value:  42\n",
      "NAN_Value:  0\n",
      "This year scraping has so many errors, might drop this year\n"
     ]
    }
   ],
   "source": [
    "import pandas as pd\n",
    "\n",
    "ICLR2020 = pd.read_csv('./data/ICLR2020(Oral).csv')\n",
    "#ICLR2020 = ICLR2020.dropna(subset=['Papers_OfficialReview_list1_Rate'], how='all').reset_index()\n",
    "ICLR2020['Rating'] = ICLR2020['Papers_OfficialReview_list1_Rate'].str.extract('(\\d+)').astype(float)\n",
    "ICLR2020 = ICLR2020[['Papers_Title','Papers_Keywords','Papers_OfficialReview_list1_StrengthandWeakness','Rating']]\n",
    "\n",
    "ICLR2020 = ICLR2020.rename(columns={\n",
    "    'Papers_Title': 'Title',\n",
    "    'Papers_Keywords': 'Keywords',\n",
    "    'Papers_OfficialReview_list1_StrengthandWeakness': 'Strength_Weakness',\n",
    "    'Rating': 'Review_Rating',\n",
    "})\n",
    "ICLR2020 = ICLR2020.dropna(subset=['Review_Rating'], how='any').reset_index()\n",
    "print(\"NAN_Value: \",ICLR2020.isna().sum().values.sum())\n",
    "ICLR2020 = ICLR2020.fillna(\"...\")\n",
    "print(\"NAN_Value: \",ICLR2020.isna().sum().values.sum())\n",
    "\n",
    "grouped_ICLR2020 = ICLR2020.groupby('Title').agg({\n",
    "    'Keywords': 'first', \n",
    "    'Strength_Weakness': ' | '.join, \n",
    "    'Review_Rating': 'mean',\n",
    "}).reset_index()\n",
    "\n",
    "grouped_ICLR2020['Review_Rating'] = grouped_ICLR2020['Review_Rating'].apply(lambda x: 7 if x < 1 or x > 10 else x)\n",
    "#grouped_ICLR2024['Review_Confidence'] = grouped_ICLR2024['Review_Confidence'].apply(lambda x: 4 if x < 1 or x > 5 else x)\n",
    "\n",
    "grouped_ICLR2020#.to_csv(\"./data/Processed_ICLR2020(Oral).csv\")\n",
    "print(\"This year scraping has so many errors, might drop this year\")\n"
   ]
  },
  {
   "cell_type": "markdown",
   "metadata": {},
   "source": [
    "# ICLR2019 (Oral)"
   ]
  },
  {
   "cell_type": "code",
   "execution_count": null,
   "metadata": {},
   "outputs": [],
   "source": []
  }
 ],
 "metadata": {
  "kernelspec": {
   "display_name": "base",
   "language": "python",
   "name": "python3"
  },
  "language_info": {
   "codemirror_mode": {
    "name": "ipython",
    "version": 3
   },
   "file_extension": ".py",
   "mimetype": "text/x-python",
   "name": "python",
   "nbconvert_exporter": "python",
   "pygments_lexer": "ipython3",
   "version": "3.9.12"
  }
 },
 "nbformat": 4,
 "nbformat_minor": 2
}
